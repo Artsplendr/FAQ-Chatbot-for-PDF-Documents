{
  "cells": [
    {
      "cell_type": "markdown",
      "id": "293f8d2e",
      "metadata": {
        "id": "293f8d2e"
      },
      "source": [
        "# FAQ Chatbot for PDF Documents\n",
        "\n",
        "This project is a Retrieval-Augmented Generation (RAG) chatbot that answers questions based on the content of a PDF document. It demonstrates how modern language models can transform static documents into dynamic, interactive assistants.\n"
      ]
    },
    {
      "cell_type": "markdown",
      "source": [
        "## Project Goal\n",
        "\n",
        "To build an interactive chatbot that allows users to ask questions and receive accurate answers drawn directly from a PDF file. This simulates the functionality of a smart assistant that understands your documents."
      ],
      "metadata": {
        "id": "W7mi6ibV_3RW"
      },
      "id": "W7mi6ibV_3RW"
    },
    {
      "cell_type": "markdown",
      "source": [
        "## Features\n",
        "  *  Parses any PDF document and converts it into machine-readable text.\n",
        "  *  Splits the text into chunks and generates vector embeddings for semantic search.\n",
        "  *  Uses FAISS to retrieve the most relevant information from the document.\n",
        "  *  Utilizes OpenAI GPT to generate natural language answers.\n",
        "  *  Includes a command-line Q&A loop for quick testing."
      ],
      "metadata": {
        "id": "dkEt2eIdEKBx"
      },
      "id": "dkEt2eIdEKBx"
    },
    {
      "cell_type": "markdown",
      "source": [
        "## Tech Stack\n",
        "  *  PDF Parsing: **PyMuPDF** enables accurate and fast text extraction from PDF files.\n",
        "  *  LLM Framework: **LangChain** orchestrates the retrieval and response generation.\n",
        "  *  Embeddings: OpenAI’s **text-embedding-ada-002** is used for high-quality vector representations.\n",
        "  *  Vector Store: **FAISS** allows efficient similarity search over embedded document chunks.\n",
        "  *  LLM: **GPT-3.5 from OpenAI** provides the language understanding and response generation."
      ],
      "metadata": {
        "id": "H6UfrvTZE87F"
      },
      "id": "H6UfrvTZE87F"
    },
    {
      "cell_type": "markdown",
      "source": [
        "## Data Source\n",
        "\n",
        "Title: \"Extending Human Creativity with AI\"\n",
        "\n",
        "Authors: Katherine O’Toole & Emőke-Ágnes Horvát\n",
        "\n",
        "Published in: Journal of Creativity, 2024\n",
        "\n",
        "License: CC BY-NC-ND (Open Access)\n",
        "\n",
        "This publication is available at the [following link](https://www.sciencedirect.com/science/article/pii/S2713374524000062?via%3Dihub).\n",
        "\n",
        "\n"
      ],
      "metadata": {
        "id": "fHAJS1S4FpPp"
      },
      "id": "fHAJS1S4FpPp"
    },
    {
      "cell_type": "markdown",
      "source": [
        "## How It Works\n",
        "\n",
        "\n",
        "1.  Download a PDF and extract the raw text using PyMuPDF.\n",
        "2.  Split and embed the text using LangChain’s text splitter and OpenAI embeddings.\n",
        "3.  Store embeddings in FAISS, which enables fast and accurate vector search.\n",
        "4.  Use RetrievalQA from LangChain to match user questions with relevant document content.\n",
        "5.  Answer questions using GPT, returning responses grounded in the original document.\n"
      ],
      "metadata": {
        "id": "wzazSNWoGTuH"
      },
      "id": "wzazSNWoGTuH"
    },
    {
      "cell_type": "code",
      "source": [
        "# Mounting to Google Drive\n",
        "from google.colab import drive\n",
        "drive.mount('/content/drive')"
      ],
      "metadata": {
        "colab": {
          "base_uri": "https://localhost:8080/"
        },
        "id": "vtQddpYYVH2s",
        "outputId": "66f770cb-64e6-4766-867e-ff0e251b31be"
      },
      "id": "vtQddpYYVH2s",
      "execution_count": 1,
      "outputs": [
        {
          "output_type": "stream",
          "name": "stdout",
          "text": [
            "Mounted at /content/drive\n"
          ]
        }
      ]
    },
    {
      "cell_type": "code",
      "source": [
        "cd \"your-path-here\""
      ],
      "metadata": {
        "id": "mmD6tx7mSN-p"
      },
      "id": "mmD6tx7mSN-p",
      "execution_count": null,
      "outputs": []
    },
    {
      "cell_type": "code",
      "source": [
        "# Install necessary packages\n",
        "%%capture\n",
        "!pip install openai langchain langchain-community PyMuPDF faiss-cpu tiktoken\n",
        "!pip install -U langchain-openai"
      ],
      "metadata": {
        "id": "xN5ETNM0HMd0"
      },
      "id": "xN5ETNM0HMd0",
      "execution_count": 23,
      "outputs": []
    },
    {
      "cell_type": "code",
      "source": [
        "# Import libraries\n",
        "%%capture\n",
        "import os\n",
        "import fitz\n",
        "import requests\n",
        "import textwrap\n",
        "from langchain.text_splitter import CharacterTextSplitter, RecursiveCharacterTextSplitter\n",
        "from langchain.vectorstores import FAISS\n",
        "from langchain.chains import RetrievalQA\n",
        "from langchain_openai import OpenAIEmbeddings\n",
        "from langchain_openai import ChatOpenAI"
      ],
      "metadata": {
        "id": "nyOxfbl0HMgo"
      },
      "id": "nyOxfbl0HMgo",
      "execution_count": 31,
      "outputs": []
    },
    {
      "cell_type": "code",
      "source": [
        "# OPENAI API Key\n",
        "os.environ[\"OPENAI_API_KEY\"] = \"your-openai-api-key-here\""
      ],
      "metadata": {
        "id": "gHRv5i4LXzc3"
      },
      "id": "gHRv5i4LXzc3",
      "execution_count": null,
      "outputs": []
    },
    {
      "cell_type": "code",
      "source": [
        "# Load the PDF file\n",
        "\n",
        "pdf_path = \"your-path-here/file.pdf\" # make sure that you uploaded your pdf file\n",
        "\n",
        "# Open and read all pages\n",
        "doc = fitz.open(pdf_path)\n",
        "text_chunks = [page.get_text() for page in doc]\n",
        "full_text = \"\\n\".join(text_chunks)\n",
        "\n",
        "# Preview the first few lines\n",
        "print(full_text[:500])"
      ],
      "metadata": {
        "colab": {
          "base_uri": "https://localhost:8080/"
        },
        "id": "33-borGjHMjN",
        "outputId": "d4f6d886-34dd-4465-ca20-979d165dc1fe"
      },
      "id": "33-borGjHMjN",
      "execution_count": 18,
      "outputs": [
        {
          "output_type": "stream",
          "name": "stdout",
          "text": [
            "Journal of Creativity 34 (2024) 100080\n",
            "Available online 6 February 2024\n",
            "2713-3745/© 2024 The Authors. Published by Elsevier Ltd on behalf of Academy of Creativity. This is an open access article under the CC BY-NC-ND license\n",
            "(http://creativecommons.org/licenses/by-nc-nd/4.0/).\n",
            "Extending human creativity with AI \n",
            "Katherine O’Toole *, Em˝oke-´Agnes Horv´at \n",
            "Northwestern University, Frances Searle Room 1-269, 2240 Campus Drive, Evanston, IL 60208, USA   \n",
            "A R T I C L E  I N F O   \n",
            "Keywords: \n",
            "Computa\n"
          ]
        }
      ]
    },
    {
      "cell_type": "code",
      "source": [
        "# Split the Text into Chunks\n",
        "\n",
        "# Create text splitter\n",
        "text_splitter = RecursiveCharacterTextSplitter(\n",
        "    chunk_size=1000,\n",
        "    chunk_overlap=200,\n",
        "    separators=[\"\\n\\n\", \"\\n\", \".\", \"!\", \"?\", \" \", \"\"]\n",
        ")\n",
        "\n",
        "chunks = text_splitter.split_text(full_text)\n",
        "\n",
        "# Check results\n",
        "print(f\"🔹 Total chunks: {len(chunks)}\")\n",
        "print(\"🔹 Sample chunk:\\n\", chunks[0][:300])"
      ],
      "metadata": {
        "colab": {
          "base_uri": "https://localhost:8080/"
        },
        "id": "DNds0CdoHMlx",
        "outputId": "a12c3e1e-0dbb-40fa-af78-f0da8f77ae5d"
      },
      "id": "DNds0CdoHMlx",
      "execution_count": 21,
      "outputs": [
        {
          "output_type": "stream",
          "name": "stdout",
          "text": [
            "🔹 Total chunks: 87\n",
            "🔹 Sample chunk:\n",
            " Journal of Creativity 34 (2024) 100080\n",
            "Available online 6 February 2024\n",
            "2713-3745/© 2024 The Authors. Published by Elsevier Ltd on behalf of Academy of Creativity. This is an open access article under the CC BY-NC-ND license\n",
            "(http://creativecommons.org/licenses/by-nc-nd/4.0/).\n",
            "Extending human creati\n"
          ]
        }
      ]
    },
    {
      "cell_type": "code",
      "source": [
        "# Create Embeddings and Vector Store\n",
        "\n",
        "embedding_model = OpenAIEmbeddings()\n",
        "vector_store = FAISS.from_texts(chunks, embedding_model)\n",
        "\n",
        "print(\"Vector store created!\")"
      ],
      "metadata": {
        "colab": {
          "base_uri": "https://localhost:8080/"
        },
        "id": "MsNc1yNLHMon",
        "outputId": "175e51a5-8b6d-4877-8761-9d103829e798"
      },
      "id": "MsNc1yNLHMon",
      "execution_count": 25,
      "outputs": [
        {
          "output_type": "stream",
          "name": "stdout",
          "text": [
            "Vector store created!\n"
          ]
        }
      ]
    },
    {
      "cell_type": "code",
      "source": [
        "# Build the RetrievalQA Chain\n",
        "\n",
        "# Define the LLM\n",
        "llm = ChatOpenAI(model_name=\"gpt-3.5-turbo\", temperature=0)\n",
        "\n",
        "# Create QA chain\n",
        "qa_chain = RetrievalQA.from_chain_type(\n",
        "    llm=llm,\n",
        "    chain_type=\"stuff\",\n",
        "    retriever=vector_store.as_retriever()\n",
        ")\n",
        "\n",
        "print(\"QA system ready.\")"
      ],
      "metadata": {
        "colab": {
          "base_uri": "https://localhost:8080/"
        },
        "id": "zFE7lnaAHMq8",
        "outputId": "92f72557-1925-4b3d-ba55-35b4baf29559"
      },
      "id": "zFE7lnaAHMq8",
      "execution_count": 28,
      "outputs": [
        {
          "output_type": "stream",
          "name": "stdout",
          "text": [
            "QA system ready.\n"
          ]
        }
      ]
    },
    {
      "cell_type": "code",
      "source": [
        "# Ask Questions\n",
        "\n",
        "# Simple loop to ask questions\n",
        "while True:\n",
        "    question = input(\"\\n❓ Ask a question about the PDF (or type 'exit'): \")\n",
        "    if question.lower() == \"exit\":\n",
        "        break\n",
        "\n",
        "    result = qa_chain.invoke({\"query\": question})\n",
        "\n",
        "    # Wrap text for better readability\n",
        "    wrapped = textwrap.fill(result[\"result\"], width=100)\n",
        "    print(\"\\n💡 Answer:\\n\", wrapped)"
      ],
      "metadata": {
        "colab": {
          "base_uri": "https://localhost:8080/"
        },
        "id": "hktCFP1CHMtk",
        "outputId": "1d04d3a0-3d8b-44e1-c53d-8b12fa18a8a2"
      },
      "id": "hktCFP1CHMtk",
      "execution_count": 32,
      "outputs": [
        {
          "name": "stdout",
          "output_type": "stream",
          "text": [
            "\n",
            "❓ Ask a question about the PDF (or type 'exit'): What is the central argument of the article regarding AI’s role in human creativity?\n",
            "\n",
            "💡 Answer:\n",
            " The central argument of the article is that the development of generative AI has led to novel ways\n",
            "that technology can be integrated into creative activities. It discusses how AI tools can be\n",
            "designed to work with human creators, facilitating human creativity rather than replacing it. The\n",
            "article explores how AI models can help shed light on elements of the creative process, build\n",
            "interfaces that encourage idea exploration, and design technological affordances to support the\n",
            "development of new creative practices.\n",
            "\n",
            "❓ Ask a question about the PDF (or type 'exit'): How does the paper define or distinguish between human and artificial creativity?\n",
            "\n",
            "💡 Answer:\n",
            " The paper discusses the development of generative AI and how it can be integrated into creative\n",
            "activities. It focuses on designing AI tools that work with human creators rather than replacing\n",
            "them. The distinction between human and artificial creativity in this context seems to revolve\n",
            "around the idea that AI tools are meant to facilitate and enhance human creativity rather than\n",
            "completely replacing it.\n",
            "\n",
            "❓ Ask a question about the PDF (or type 'exit'): What are the key benefits and limitations of using AI tools in creative tasks, according to the authors?\n",
            "\n",
            "💡 Answer:\n",
            " The key benefits of using AI tools in creative tasks, according to the authors, include improving\n",
            "accessibility to the creative process by lowering barriers to entry, supporting people in engaging\n",
            "in meaningful creative practices, and providing functionality that aligns with human creativity\n",
            "without replacing it. These tools can serve as a catalyst for creative exploration and discovery.\n",
            "The limitations mentioned include concerns about a potential mismatch between the functionality of\n",
            "AI technologies and the types of experiences that align with human needs and desires. It is crucial\n",
            "to ensure that AI tools are aligned with the underlying cognitive processes of creative thinking to\n",
            "facilitate creativity effectively.\n",
            "\n",
            "❓ Ask a question about the PDF (or type 'exit'): How does the article address the ethical implications of AI-generated creative work?\n",
            "\n",
            "💡 Answer:\n",
            " The article addresses the ethical implications of AI-generated creative work by discussing concerns\n",
            "about how AI creativity can coexist with human creativity, the potential for AI to replace human\n",
            "creators, and the question of artistic ownership. It also mentions the use of copyrighted works as\n",
            "training data for AI models without permission or compensation. Additionally, the article highlights\n",
            "the importance of designing AI tools that work with human creators rather than replacing them,\n",
            "aiming to preserve the artist's embeddedness in the creative process while leveraging AI\n",
            "capabilities for new forms of creative expression.\n",
            "\n",
            "❓ Ask a question about the PDF (or type 'exit'): What future directions or recommendations do the authors propose for integrating AI into creative professions?\n",
            "\n",
            "💡 Answer:\n",
            " The authors propose that future directions for integrating AI into creative professions should focus\n",
            "on designing AI tools that work with human creators rather than replacing them. They suggest\n",
            "leveraging AI models to shed light on elements of the creative process, building interfaces that\n",
            "encourage exploration of ideas, and designing technological affordances that support the development\n",
            "of new creative practices. Additionally, they emphasize the importance of preserving the artist's\n",
            "agency in the creative process while leveraging AI capabilities to explore new forms of creative\n",
            "expression.\n",
            "\n",
            "❓ Ask a question about the PDF (or type 'exit'): exit\n"
          ]
        }
      ]
    },
    {
      "cell_type": "markdown",
      "source": [
        "## Create FAQ Chatbot with predefined questions"
      ],
      "metadata": {
        "id": "t56qukjpZKac"
      },
      "id": "t56qukjpZKac"
    },
    {
      "cell_type": "code",
      "source": [
        "llm = ChatOpenAI(model_name=\"gpt-3.5-turbo\", temperature=0)\n",
        "\n",
        "qa_chain = RetrievalQA.from_chain_type(\n",
        "    llm=llm,\n",
        "    chain_type=\"stuff\",\n",
        "    retriever=vector_store.as_retriever()\n",
        ")\n",
        "\n",
        "print(\"FAQ Chatbot is ready.\")"
      ],
      "metadata": {
        "colab": {
          "base_uri": "https://localhost:8080/"
        },
        "id": "jBKE4mKeZQLt",
        "outputId": "d046bb94-6702-4239-d21e-214eb61f7726"
      },
      "id": "jBKE4mKeZQLt",
      "execution_count": 34,
      "outputs": [
        {
          "output_type": "stream",
          "name": "stdout",
          "text": [
            "FAQ Chatbot is ready.\n"
          ]
        }
      ]
    },
    {
      "cell_type": "markdown",
      "source": [
        "### Option 1: Static FAQ Chatbot (Fixed Questions)\n",
        "\n",
        "This version loops through a list of predefined FAQ questions."
      ],
      "metadata": {
        "id": "9I59AbCMZ2ti"
      },
      "id": "9I59AbCMZ2ti"
    },
    {
      "cell_type": "code",
      "source": [
        "faq_questions = [\n",
        "    \"What is the central argument of the article regarding AI’s role in human creativity?\",\n",
        "    \"How does the paper define or distinguish between human and artificial creativity?\",\n",
        "    \"What are the key benefits and limitations of using AI tools in creative tasks, according to the authors?\",\n",
        "    \"How does the article address the ethical implications of AI-generated creative work?\",\n",
        "    \"What future directions or recommendations do the authors propose for integrating AI into creative professions?\"\n",
        "]\n",
        "\n",
        "for question in faq_questions:\n",
        "    print(f\"\\n❓ {question}\")\n",
        "    result = qa_chain.invoke({\"query\": question})\n",
        "    wrapped = textwrap.fill(result[\"result\"], width=100)\n",
        "    print(\"💡 Answer:\\n\", wrapped)"
      ],
      "metadata": {
        "colab": {
          "base_uri": "https://localhost:8080/"
        },
        "id": "WWs2fUkUZj9e",
        "outputId": "216d9bd8-b288-4ced-e497-40db04e07e41"
      },
      "id": "WWs2fUkUZj9e",
      "execution_count": 36,
      "outputs": [
        {
          "output_type": "stream",
          "name": "stdout",
          "text": [
            "\n",
            "❓ What is the central argument of the article regarding AI’s role in human creativity?\n",
            "💡 Answer:\n",
            " The central argument of the article is that the development of generative AI has led to novel ways\n",
            "that technology can be integrated into creative activities. It discusses how AI tools can facilitate\n",
            "human creativity and allow users to engage fully and authentically in the creative process, rather\n",
            "than replacing human creators. The article also raises concerns about how AI creativity can coexist\n",
            "with human creativity and the potential impact on creative industries.\n",
            "\n",
            "❓ How does the paper define or distinguish between human and artificial creativity?\n",
            "💡 Answer:\n",
            " The paper \"Extending human creativity with AI\" by Katherine O’Toole and Em˝oke-´Agnes Horv´at from\n",
            "Northwestern University focuses on how generative AI can be integrated into creative activities. It\n",
            "explores the development of AI tools that work with human creators rather than replacing them. The\n",
            "paper discusses leveraging AI models to shed light on elements of the creative process, building\n",
            "interfaces that encourage idea exploration, and designing technological affordances to support new\n",
            "creative practices. However, the paper does not explicitly define or distinguish between human and\n",
            "artificial creativity in the provided context.\n",
            "\n",
            "❓ What are the key benefits and limitations of using AI tools in creative tasks, according to the authors?\n",
            "💡 Answer:\n",
            " The key benefits of using AI tools in creative tasks, according to the authors, include improving\n",
            "accessibility to the creative process by lowering barriers to entry, supporting people in engaging\n",
            "in meaningful creative practices, and providing functionality that aligns with human creativity.\n",
            "These tools can serve as a catalyst for creative exploration and discovery, preserving the artist's\n",
            "embeddedness in the creative process while leveraging AI capabilities to explore new forms of\n",
            "creative expression.  As for limitations, the concerns raised by the authors revolve around a\n",
            "potential mismatch between the functionality of AI technologies and the types of experiences that\n",
            "align with human needs and desires. There is a focus on understanding creativity as an experiential\n",
            "process, emphasizing the value of the process as much as the products. The challenge is to design AI\n",
            "tools that do not replace human creativity but rather integrate with it authentically and\n",
            "meaningfully.\n",
            "\n",
            "❓ How does the article address the ethical implications of AI-generated creative work?\n",
            "💡 Answer:\n",
            " The article addresses the ethical implications of AI-generated creative work by discussing concerns\n",
            "about how AI creativity can coexist with human creativity, whether AI might replace human creators,\n",
            "and the question of artistic ownership. It also mentions the issue of AI models using large sets of\n",
            "training data without the original creators' permission or compensation. The article emphasizes the\n",
            "importance of designing AI tools that work with human creators rather than replacing them, aiming to\n",
            "preserve the artist's embeddedness in the creative process while leveraging AI capabilities for new\n",
            "forms of creative expression.\n",
            "\n",
            "❓ What future directions or recommendations do the authors propose for integrating AI into creative professions?\n",
            "💡 Answer:\n",
            " The authors suggest that future directions for integrating AI into creative professions should focus\n",
            "on designing AI tools that work with human creators rather than replacing them. They recommend\n",
            "leveraging AI models to help shed light on elements of the creative process, building interfaces\n",
            "that encourage exploration of ideas, and designing technological affordances that can support the\n",
            "development of new creative practices. Additionally, they emphasize the importance of preserving the\n",
            "artist's agency in the creative process while leveraging AI capabilities to explore new forms of\n",
            "creative expression.\n"
          ]
        }
      ]
    },
    {
      "cell_type": "markdown",
      "source": [
        "### Option 2: Selectable FAQ Interface\n",
        "\n",
        "If we want the user to choose from the FAQ list interactively"
      ],
      "metadata": {
        "id": "VqZYF0jhaJPS"
      },
      "id": "VqZYF0jhaJPS"
    },
    {
      "cell_type": "code",
      "source": [
        "faq_questions = {\n",
        "    \"1\": \"What is the central argument of the article regarding AI’s role in human creativity?\",\n",
        "    \"2\": \"How does the paper define or distinguish between human and artificial creativity?\",\n",
        "    \"3\": \"What are the key benefits and limitations of using AI tools in creative tasks, according to the authors?\",\n",
        "    \"4\": \"How does the article address the ethical implications of AI-generated creative work?\",\n",
        "    \"5\": \"What future directions do the authors propose for integrating AI into creative professions?\"\n",
        "}\n",
        "\n",
        "while True:\n",
        "    print(\"\\n Choose a question (type number), or 'exit':\")\n",
        "    for key, q in faq_questions.items():\n",
        "        print(f\" {key}. {q}\")\n",
        "    print()  #\n",
        "\n",
        "    choice = input(\"Your choice: \").strip()\n",
        "    if choice.lower() == \"exit\":\n",
        "        break\n",
        "    if choice not in faq_questions:\n",
        "        print(\"⚠️ Invalid option.\")\n",
        "        continue\n",
        "\n",
        "    question = faq_questions[choice]\n",
        "    result = qa_chain.invoke({\"query\": question})\n",
        "    wrapped = textwrap.fill(result[\"result\"], width=100)\n",
        "    print(\"\\n💡 Answer:\\n\", wrapped)"
      ],
      "metadata": {
        "colab": {
          "base_uri": "https://localhost:8080/"
        },
        "id": "BdH5g-TQZ-v8",
        "outputId": "464aa572-af52-4d9f-b2b0-b264c8f0071c"
      },
      "id": "BdH5g-TQZ-v8",
      "execution_count": 39,
      "outputs": [
        {
          "name": "stdout",
          "output_type": "stream",
          "text": [
            "\n",
            " Choose a question (type number), or 'exit':\n",
            " 1. What is the central argument of the article regarding AI’s role in human creativity?\n",
            " 2. How does the paper define or distinguish between human and artificial creativity?\n",
            " 3. What are the key benefits and limitations of using AI tools in creative tasks, according to the authors?\n",
            " 4. How does the article address the ethical implications of AI-generated creative work?\n",
            " 5. What future directions do the authors propose for integrating AI into creative professions?\n",
            "\n",
            "Your choice: 1\n",
            "\n",
            "💡 Answer:\n",
            " The central argument of the article is that the development of generative AI has led to novel ways\n",
            "that technology can be integrated into creative activities. It discusses how AI tools can facilitate\n",
            "human creativity and allow users to engage fully and authentically in the creative process, rather\n",
            "than replacing human creators. The article also raises concerns about how AI creativity can coexist\n",
            "with human creativity and the potential impact on creative industries.\n",
            "\n",
            " Choose a question (type number), or 'exit':\n",
            " 1. What is the central argument of the article regarding AI’s role in human creativity?\n",
            " 2. How does the paper define or distinguish between human and artificial creativity?\n",
            " 3. What are the key benefits and limitations of using AI tools in creative tasks, according to the authors?\n",
            " 4. How does the article address the ethical implications of AI-generated creative work?\n",
            " 5. What future directions do the authors propose for integrating AI into creative professions?\n",
            "\n",
            "Your choice: 2\n",
            "\n",
            "💡 Answer:\n",
            " The paper discusses the development of generative AI and how it can be integrated into creative\n",
            "activities. It focuses on designing AI tools that work with human creators rather than replacing\n",
            "them. The distinction between human and artificial creativity in this context seems to revolve\n",
            "around the idea that AI tools are meant to facilitate and enhance human creativity rather than\n",
            "completely replacing it.\n",
            "\n",
            " Choose a question (type number), or 'exit':\n",
            " 1. What is the central argument of the article regarding AI’s role in human creativity?\n",
            " 2. How does the paper define or distinguish between human and artificial creativity?\n",
            " 3. What are the key benefits and limitations of using AI tools in creative tasks, according to the authors?\n",
            " 4. How does the article address the ethical implications of AI-generated creative work?\n",
            " 5. What future directions do the authors propose for integrating AI into creative professions?\n",
            "\n",
            "Your choice: exit\n"
          ]
        }
      ]
    }
  ],
  "metadata": {
    "colab": {
      "provenance": []
    },
    "language_info": {
      "name": "python"
    },
    "kernelspec": {
      "name": "python3",
      "display_name": "Python 3"
    }
  },
  "nbformat": 4,
  "nbformat_minor": 5
}